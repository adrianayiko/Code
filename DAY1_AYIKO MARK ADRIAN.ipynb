{
 "cells": [
  {
   "cell_type": "code",
   "execution_count": 1,
   "id": "4d79f01e",
   "metadata": {},
   "outputs": [
    {
     "name": "stdout",
     "output_type": "stream",
     "text": [
      "Hello World!\n"
     ]
    }
   ],
   "source": [
    "print(\"Hello World!\")"
   ]
  },
  {
   "cell_type": "code",
   "execution_count": 2,
   "id": "eed50b1c",
   "metadata": {},
   "outputs": [
    {
     "name": "stdout",
     "output_type": "stream",
     "text": [
      "AYIKO MARK\" ADRIAN\n"
     ]
    }
   ],
   "source": [
    "print('AYIKO MARK\" ADRIAN')"
   ]
  },
  {
   "cell_type": "code",
   "execution_count": 3,
   "id": "917ce2d4",
   "metadata": {},
   "outputs": [
    {
     "name": "stdout",
     "output_type": "stream",
     "text": [
      "27\n"
     ]
    }
   ],
   "source": [
    "age = 27\n",
    "print(age)"
   ]
  },
  {
   "cell_type": "code",
   "execution_count": 4,
   "id": "8a89db1d",
   "metadata": {},
   "outputs": [
    {
     "name": "stdout",
     "output_type": "stream",
     "text": [
      "13\n",
      "2\n",
      "1\n"
     ]
    }
   ],
   "source": [
    "price= 13\n",
    "quantity = 2\n",
    "discount = 1\n",
    "print(price)\n",
    "print(quantity)\n",
    "print(discount)"
   ]
  },
  {
   "cell_type": "code",
   "execution_count": 5,
   "id": "cf6bd404",
   "metadata": {},
   "outputs": [
    {
     "name": "stdout",
     "output_type": "stream",
     "text": [
      "Kasubi\n"
     ]
    }
   ],
   "source": [
    "x=\"Kasubi\"\n",
    "print(x)"
   ]
  },
  {
   "cell_type": "code",
   "execution_count": 6,
   "id": "19b78e19",
   "metadata": {},
   "outputs": [
    {
     "name": "stdout",
     "output_type": "stream",
     "text": [
      "AYIKO BSSE III\n",
      "AYIKO\n",
      "BSSE\n",
      "III\n"
     ]
    }
   ],
   "source": [
    "x,y,z=\"AYIKO\",\"BSSE\",\"III\"\n",
    "print(x,y,z)\n",
    "print(x)\n",
    "print(y)\n",
    "print(z)"
   ]
  },
  {
   "cell_type": "code",
   "execution_count": 7,
   "id": "6257309b",
   "metadata": {},
   "outputs": [
    {
     "name": "stdout",
     "output_type": "stream",
     "text": [
      "Ayiko new: True age:25\n"
     ]
    }
   ],
   "source": [
    "status = True\n",
    "name = \"Ayiko\"\n",
    "age = 25\n",
    "\n",
    "print(name+\" new: \"+str(status)+ \" age:\"+str(age))"
   ]
  },
  {
   "cell_type": "code",
   "execution_count": 8,
   "id": "757000e3",
   "metadata": {},
   "outputs": [
    {
     "name": "stdout",
     "output_type": "stream",
     "text": [
      "Enter your name: \n",
      "Ayiko Mark\n",
      "Enter the color: \n",
      "Orange\n",
      "Ayiko Mark likes Orange\n"
     ]
    }
   ],
   "source": [
    "print('Enter your name: ')\n",
    "name= input()\n",
    "print('Enter the color: ')\n",
    "color = input()\n",
    "\"Writing comments by Ayiko\"\n",
    "#Single line comment\n",
    "print(name+\" likes \"+color)"
   ]
  },
  {
   "cell_type": "code",
   "execution_count": null,
   "id": "20d25b1b",
   "metadata": {},
   "outputs": [],
   "source": []
  }
 ],
 "metadata": {
  "kernelspec": {
   "display_name": "Python 3 (ipykernel)",
   "language": "python",
   "name": "python3"
  },
  "language_info": {
   "codemirror_mode": {
    "name": "ipython",
    "version": 3
   },
   "file_extension": ".py",
   "mimetype": "text/x-python",
   "name": "python",
   "nbconvert_exporter": "python",
   "pygments_lexer": "ipython3",
   "version": "3.9.12"
  }
 },
 "nbformat": 4,
 "nbformat_minor": 5
}
