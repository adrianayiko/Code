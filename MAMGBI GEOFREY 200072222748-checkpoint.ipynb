{
 "cells": [
  {
   "cell_type": "code",
   "execution_count": 1,
   "metadata": {},
   "outputs": [
    {
     "name": "stdout",
     "output_type": "stream",
     "text": [
      "Mamgbi Geofrey\n"
     ]
    }
   ],
   "source": [
    "print(\"Adrian Mark\")"
   ]
  },
  {
   "cell_type": "code",
   "execution_count": 4,
   "metadata": {},
   "outputs": [
    {
     "name": "stdout",
     "output_type": "stream",
     "text": [
      "12 4 6.8\n"
     ]
    }
   ],
   "source": [
    "x,y,z=12,4,6.8\n",
    "print(x , y ,z)"
   ]
  },
  {
   "cell_type": "code",
   "execution_count": 5,
   "metadata": {},
   "outputs": [
    {
     "name": "stdout",
     "output_type": "stream",
     "text": [
      "Geofrey 23 True\n"
     ]
    }
   ],
   "source": [
    "name=\"Mark\"\n",
    "age=22\n",
    "is_a_student=True\n",
    "print(name, age, is_a_student)"
   ]
  },
  {
   "cell_type": "code",
   "execution_count": 6,
   "metadata": {},
   "outputs": [
    {
     "name": "stdout",
     "output_type": "stream",
     "text": [
      "Geofrey 23 is a new student\n"
     ]
    }
   ],
   "source": [
    "name=\"Geofrey\"\n",
    "age=23\n",
    "is_a_new_student='is a new student'\n",
    "print(name, age, is_a_new_student)"
   ]
  },
  {
   "cell_type": "code",
   "execution_count": 8,
   "metadata": {},
   "outputs": [
    {
     "name": "stdout",
     "output_type": "stream",
     "text": [
      "Enter your favorite pet\n",
      "rat\n",
      "Enter your favorite color\n",
      "black\n",
      "Your favrite pet is  rat  and your favrite color is  black\n"
     ]
    }
   ],
   "source": [
    "print(\"Enter your favorite pet\")\n",
    "pet=str(input())\n",
    "print(\"Enter your favorite color\")\n",
    "color=str(input())\n",
    "if pet=='dog' or pet=='Dog' or pet=='DOG':\n",
    "    if color=='black'or color=='Black' or color=='BLACK':\n",
    "        print(\"You are so boring\")\n",
    "else:\n",
    "    print(\"Your favrite pet is \",pet, \" and your favrite color is \", color)"
   ]
  },
  {
   "cell_type": "code",
   "execution_count": 9,
   "metadata": {},
   "outputs": [
    {
     "name": "stdout",
     "output_type": "stream",
     "text": [
      "Enter your name\n",
      "Alvacodez\n",
      "my name is  Alvacodez\n"
     ]
    }
   ],
   "source": [
    "def myname(x):\n",
    "    print(\"my name is \", x)\n",
    "print(\"Enter your name\")\n",
    "name=str(input())\n",
    "myname(name)"
   ]
  },
  {
   "cell_type": "code",
   "execution_count": 10,
   "metadata": {},
   "outputs": [
    {
     "name": "stdout",
     "output_type": "stream",
     "text": [
      "rover\n",
      "Cruisher\n",
      "rover\n"
     ]
    }
   ],
   "source": [
    "x='Jeep'\n",
    "y='Cruisher'\n",
    "z='rover'\n",
    "print(z)\n",
    "print(y)\n",
    "print(z)"
   ]
  },
  {
   "cell_type": "code",
   "execution_count": null,
   "metadata": {},
   "outputs": [],
   "source": []
  }
 ],
 "metadata": {
  "kernelspec": {
   "display_name": "Python 3 (ipykernel)",
   "language": "python",
   "name": "python3"
  },
  "language_info": {
   "codemirror_mode": {
    "name": "ipython",
    "version": 3
   },
   "file_extension": ".py",
   "mimetype": "text/x-python",
   "name": "python",
   "nbconvert_exporter": "python",
   "pygments_lexer": "ipython3",
   "version": "3.9.12"
  }
 },
 "nbformat": 4,
 "nbformat_minor": 2
}
