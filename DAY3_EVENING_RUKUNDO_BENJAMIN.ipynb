{
 "cells": [
  {
   "cell_type": "code",
   "execution_count": 3,
   "id": "8db95853",
   "metadata": {},
   "outputs": [
    {
     "name": "stdout",
     "output_type": "stream",
     "text": [
      "Afternoon session\n",
      "17\n",
      "te\n",
      "ssio\n",
      "AFTERNOON SESSION\n"
     ]
    }
   ],
   "source": [
    "session = 'Afternoon session'\n",
    "print(session)\n",
    "print(len(session))\n",
    "print(session[2:4])\n",
    "print(session[-5:-1])\n",
    "print(session.upper())"
   ]
  },
  {
   "cell_type": "code",
   "execution_count": 2,
   "id": "68bf7431",
   "metadata": {},
   "outputs": [
    {
     "name": "stdout",
     "output_type": "stream",
     "text": [
      "Rukundo Benjamin\n"
     ]
    }
   ],
   "source": [
    "#concatenation\n",
    "a = 'Rukundo'\n",
    "b= 'Benjamin'\n",
    "print(a + ' ' +b)"
   ]
  },
  {
   "cell_type": "code",
   "execution_count": 6,
   "id": "928a5135",
   "metadata": {},
   "outputs": [
    {
     "name": "stdout",
     "output_type": "stream",
     "text": [
      "i am called dee man\n"
     ]
    }
   ],
   "source": [
    "name = 'dee man'\n",
    "txt = \"i am called {}\"\n",
    "print(txt.format(name))"
   ]
  },
  {
   "cell_type": "code",
   "execution_count": 7,
   "id": "6a91949a",
   "metadata": {},
   "outputs": [
    {
     "name": "stdout",
     "output_type": "stream",
     "text": [
      "Chase\n",
      "1\n",
      "0.5\n"
     ]
    }
   ],
   "source": [
    "#classes\n",
    "class Dog:\n",
    "    name = ''\n",
    "    age = 0\n",
    "    height = 0\n",
    "    \n",
    "Chase = Dog()\n",
    "Chase.name = 'Chase'\n",
    "Chase.age = 1\n",
    "Chase.height = 0.5\n",
    "\n",
    "print(Chase.name)\n",
    "print(Chase.age)\n",
    "print(Chase.height)"
   ]
  },
  {
   "cell_type": "code",
   "execution_count": 3,
   "id": "9a9ca5df",
   "metadata": {},
   "outputs": [
    {
     "name": "stdout",
     "output_type": "stream",
     "text": [
      "Rukundo\n",
      "21\n",
      "Right\n",
      "26\n"
     ]
    }
   ],
   "source": [
    "#__init__ method\n",
    "class Student:\n",
    "    def __init__(self, name, age):\n",
    "        self.name = name\n",
    "        self.age = age\n",
    "        \n",
    "st1 = Student('Rukundo', 21)\n",
    "st2  = Student('Right', 26)\n",
    "    \n",
    "print(st1.name)\n",
    "print(st1.age)\n",
    "print(st2.name)\n",
    "print(st2.age)\n"
   ]
  },
  {
   "cell_type": "code",
   "execution_count": 28,
   "id": "0ef3a787",
   "metadata": {},
   "outputs": [
    {
     "name": "stdout",
     "output_type": "stream",
     "text": [
      "Hello my name is John\n"
     ]
    }
   ],
   "source": [
    "class Person:\n",
    "    def __init__(mysillyobject, name, age):\n",
    "        mysillyobject.name = name\n",
    "        mysillyobject.age = age\n",
    "\n",
    "    def myfunc(abc):\n",
    "        print(\"Hello my name is \" + abc.name)\n",
    "\n",
    "p1 = Person(\"John\", 36)\n",
    "p1.myfunc()"
   ]
  },
  {
   "cell_type": "code",
   "execution_count": 4,
   "id": "857bd1eb",
   "metadata": {},
   "outputs": [
    {
     "name": "stdout",
     "output_type": "stream",
     "text": [
      "Brand Audi Mileage 98 Team Audi\n",
      "Brand RedBull Mileage 99\n"
     ]
    }
   ],
   "source": [
    "#inheritance \n",
    "class cars:\n",
    "    def __init__(this, brand,mileage ):\n",
    "        this.brand = brand\n",
    "        this.mileage = mileage\n",
    "    def display(this):\n",
    "            print('Brand',this.brand,'Mileage',this.mileage)\n",
    "            \n",
    "#child)\n",
    "class team(cars):\n",
    "    def __init__(this, brand,mileage,team):\n",
    "        super().__init__(brand,mileage)\n",
    "        this.team = team\n",
    "    def childdisplay(this):\n",
    "        print('Brand',this.brand,'Mileage',this.mileage,'Team',this.team)\n",
    "team1 = team('Audi',98,\"Audi\")\n",
    "team1.childdisplay();\n",
    "#parent\n",
    "car = cars(\"RedBull\", 99)\n",
    "car.display()\n",
    "        "
   ]
  },
  {
   "cell_type": "code",
   "execution_count": null,
   "id": "9285bdde",
   "metadata": {},
   "outputs": [],
   "source": []
  }
 ],
 "metadata": {
  "kernelspec": {
   "display_name": "Python 3 (ipykernel)",
   "language": "python",
   "name": "python3"
  },
  "language_info": {
   "codemirror_mode": {
    "name": "ipython",
    "version": 3
   },
   "file_extension": ".py",
   "mimetype": "text/x-python",
   "name": "python",
   "nbconvert_exporter": "python",
   "pygments_lexer": "ipython3",
   "version": "3.9.12"
  }
 },
 "nbformat": 4,
 "nbformat_minor": 5
}
