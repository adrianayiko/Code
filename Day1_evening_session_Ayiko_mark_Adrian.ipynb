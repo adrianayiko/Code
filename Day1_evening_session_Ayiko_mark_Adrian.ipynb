{
 "cells": [
  {
   "cell_type": "code",
   "execution_count": 1,
   "id": "7b60b979-a4b7-4578-8a4f-96b039fcc8da",
   "metadata": {},
   "outputs": [
    {
     "name": "stdout",
     "output_type": "stream",
     "text": [
      "Ayiko mark\n",
      "45\n"
     ]
    }
   ],
   "source": [
    "print('Ayiko mark')\n",
    "print(3+6*7)"
   ]
  },
  {
   "cell_type": "code",
   "execution_count": 2,
   "id": "0d89dc60-c7c9-410f-8d63-3338e9191012",
   "metadata": {},
   "outputs": [
    {
     "name": "stdout",
     "output_type": "stream",
     "text": [
      "413\n"
     ]
    }
   ],
   "source": [
    "print((3+56)*7)"
   ]
  },
  {
   "cell_type": "code",
   "execution_count": 3,
   "id": "d753ae70-07f6-4279-b1ec-dc58b0e0faf1",
   "metadata": {},
   "outputs": [
    {
     "name": "stdout",
     "output_type": "stream",
     "text": [
      "0\n"
     ]
    }
   ],
   "source": [
    "print(99%3)"
   ]
  },
  {
   "cell_type": "code",
   "execution_count": 4,
   "id": "d1f82e5a-6b39-4252-9ec2-3e442800633e",
   "metadata": {},
   "outputs": [
    {
     "name": "stdout",
     "output_type": "stream",
     "text": [
      "4\n"
     ]
    }
   ],
   "source": [
    "m = ((6+4)*(10-6)%9)\n",
    "print(m)"
   ]
  },
  {
   "cell_type": "code",
   "execution_count": 5,
   "id": "09147aad-7924-4d53-a926-23b1b12f0393",
   "metadata": {},
   "outputs": [
    {
     "name": "stdout",
     "output_type": "stream",
     "text": [
      "3 4.5 3.0 5\n"
     ]
    }
   ],
   "source": [
    "y = int(3)\n",
    "x = str(4.5)\n",
    "c = float(3)\n",
    "h = int(5.58)\n",
    "print(y, x, c, h)"
   ]
  },
  {
   "cell_type": "code",
   "execution_count": 6,
   "id": "8b7be6ba-d9f9-488d-b805-9f9af494a7f9",
   "metadata": {},
   "outputs": [
    {
     "name": "stdout",
     "output_type": "stream",
     "text": [
      "7.0\n"
     ]
    }
   ],
   "source": [
    "m = int(7.9)\n",
    "print(float(m))\n"
   ]
  },
  {
   "cell_type": "code",
   "execution_count": 7,
   "id": "4f435e45-8e41-46dc-8d34-b3189cf87f3c",
   "metadata": {},
   "outputs": [
    {
     "name": "stdout",
     "output_type": "stream",
     "text": [
      "2\n"
     ]
    }
   ],
   "source": [
    "k = str(2)\n",
    "print(int(k))\n"
   ]
  },
  {
   "cell_type": "code",
   "execution_count": 8,
   "id": "95ac34fc-9d8b-4ee3-b0a9-44352f42411e",
   "metadata": {},
   "outputs": [
    {
     "name": "stdout",
     "output_type": "stream",
     "text": [
      "Bmw\n",
      "Benzi\n",
      "Subaru\n",
      "AUDI\n"
     ]
    }
   ],
   "source": [
    "cars = ['BMW', 'Benzi', 'subaru', 'audi']\n",
    "\n",
    "for car in cars:\n",
    "    if car=='audi':\n",
    "        print(car.upper()) #to uppercase\n",
    "    else:\n",
    "        print(car.title()) # first letter to uppercase"
   ]
  },
  {
   "cell_type": "code",
   "execution_count": 9,
   "id": "f45f11c6-25fc-462f-88a1-8c11ad61f242",
   "metadata": {},
   "outputs": [],
   "source": [
    "requested_toppings = 'anchovies'\n",
    "if (requested_toppings != 'anchovies'):\n",
    "    print('Hold the anchovies.')"
   ]
  },
  {
   "cell_type": "code",
   "execution_count": 10,
   "id": "0bcc7239-b9b9-47ac-b570-8a1854adcd8b",
   "metadata": {},
   "outputs": [
    {
     "name": "stdout",
     "output_type": "stream",
     "text": [
      "Hold the anchovies.\n"
     ]
    }
   ],
   "source": [
    "requested_toppings = 'mushrooms'\n",
    "if (requested_toppings != 'anchovies'):\n",
    "    print('Hold the anchovies.')"
   ]
  },
  {
   "cell_type": "code",
   "execution_count": 11,
   "id": "58b5ddb7-7ca5-4c98-9610-76db690bdd77",
   "metadata": {},
   "outputs": [
    {
     "name": "stdout",
     "output_type": "stream",
     "text": [
      "You are not a teen\n"
     ]
    }
   ],
   "source": [
    "age =2\n",
    "if(age>=12):\n",
    "        print('You are a teen')\n",
    "else:\n",
    "        print('You are not a teen')"
   ]
  },
  {
   "cell_type": "code",
   "execution_count": 12,
   "id": "58548513-07c8-40ce-8993-ee15b8a1be99",
   "metadata": {},
   "outputs": [
    {
     "name": "stdout",
     "output_type": "stream",
     "text": [
      "We are not here.\n"
     ]
    }
   ],
   "source": [
    "num1 = 22\n",
    "num2 = 18\n",
    "if(num1>22 and num2<=18):\n",
    "    print('We are here.')\n",
    "else:\n",
    "    print('We are not here.')"
   ]
  },
  {
   "cell_type": "code",
   "execution_count": 13,
   "id": "69d06a7f-ead1-4a30-9727-167e27d0a8de",
   "metadata": {},
   "outputs": [
    {
     "data": {
      "text/plain": [
       "True"
      ]
     },
     "execution_count": 13,
     "metadata": {},
     "output_type": "execute_result"
    }
   ],
   "source": [
    "num1 = 22\n",
    "num2 = 18\n",
    "num1>=22 and num2<=18"
   ]
  },
  {
   "cell_type": "code",
   "execution_count": 14,
   "id": "4e7c842b-20cb-472e-b856-a2b9fc6858fb",
   "metadata": {},
   "outputs": [
    {
     "data": {
      "text/plain": [
       "True"
      ]
     },
     "execution_count": 14,
     "metadata": {},
     "output_type": "execute_result"
    }
   ],
   "source": [
    "toppings = ['mushrooms', 'pepperoni', 'onions']\n",
    "'mushrooms' in toppings"
   ]
  },
  {
   "cell_type": "code",
   "execution_count": 15,
   "id": "b86608a0-6879-4b6d-847c-873d80cab160",
   "metadata": {},
   "outputs": [
    {
     "data": {
      "text/plain": [
       "False"
      ]
     },
     "execution_count": 15,
     "metadata": {},
     "output_type": "execute_result"
    }
   ],
   "source": [
    "toppings = ['mushrooms', 'pepperoni', 'onions']\n",
    "'cheese' in toppings"
   ]
  },
  {
   "cell_type": "code",
   "execution_count": 16,
   "id": "87e48665-4893-4537-951d-4948c25c1ec9",
   "metadata": {},
   "outputs": [
    {
     "data": {
      "text/plain": [
       "True"
      ]
     },
     "execution_count": 16,
     "metadata": {},
     "output_type": "execute_result"
    }
   ],
   "source": [
    "list = ['bon']\n",
    "'bon' in list"
   ]
  },
  {
   "cell_type": "code",
   "execution_count": 21,
   "id": "d17fc302-c409-45e8-820f-9ed49f2c718a",
   "metadata": {},
   "outputs": [
    {
     "name": "stdout",
     "output_type": "stream",
     "text": [
      "Enter your age:45\n",
      "You are elligible to vote.\n"
     ]
    }
   ],
   "source": [
    "credible_age = 18\n",
    "voter_age = input('Enter your age:')\n",
    "if(int(voter_age) >= credible_age):\n",
    "    print('You are elligible to vote.')"
   ]
  },
  {
   "cell_type": "code",
   "execution_count": 22,
   "id": "375917d5-efa6-409a-8a67-24ec8c2b35f7",
   "metadata": {},
   "outputs": [
    {
     "name": "stdout",
     "output_type": "stream",
     "text": [
      "Enter your age:\n",
      "56\n",
      "You are elligible to vote.\n"
     ]
    }
   ],
   "source": [
    "credible_age = 18\n",
    "print('Enter your age:')\n",
    "voter_age = int(input())\n",
    "if(voter_age >= credible_age):\n",
    "    print('You are elligible to vote.')\n",
    "else:\n",
    "    print('You are not elligible to vote.')"
   ]
  },
  {
   "cell_type": "code",
   "execution_count": 23,
   "id": "0e3beaf0-038c-4653-8e95-7062b09fa6d4",
   "metadata": {},
   "outputs": [
    {
     "name": "stdout",
     "output_type": "stream",
     "text": [
      "Your admission cost is $ 4 .\n"
     ]
    }
   ],
   "source": [
    "height = 5.5\n",
    "if height < 5.0:\n",
    "    price = 0\n",
    "elif height < 7.5:\n",
    "    price = 4\n",
    "elif height < 9.0:\n",
    "    price = 9\n",
    "else:\n",
    "    price = 13\n",
    "    \n",
    "print('Your admission cost is $',price,'.')"
   ]
  },
  {
   "cell_type": "code",
   "execution_count": 24,
   "id": "02bea631-b83b-43c5-a974-ac28604d74e3",
   "metadata": {},
   "outputs": [
    {
     "name": "stdout",
     "output_type": "stream",
     "text": [
      "Adding pineapple!...\n",
      "\n",
      "Your pizza is ready.\n"
     ]
    }
   ],
   "source": [
    "toppings = ['pineapple', 'cheese-tomatoes']\n",
    "if 'pineapple' in toppings:\n",
    "    print('Adding pineapple!...')\n",
    "elif 'mushrooms' in toppings:\n",
    "    print('Adding mushrooms!...')\n",
    "elif 'cheese-tomatoes' in toppings:\n",
    "    print('Adding cheese-tomatoes!...')\n",
    "else:\n",
    "    print('No toppings..sorry')\n",
    "print('\\nYour pizza is ready.')"
   ]
  },
  {
   "cell_type": "code",
   "execution_count": 27,
   "id": "d416ea42-bc49-443b-9317-8dc7cf455590",
   "metadata": {},
   "outputs": [
    {
     "name": "stdout",
     "output_type": "stream",
     "text": [
      "['water', 'soda', 'juice']\n",
      "juice\n",
      "juice\n",
      "['water', 'soda', 'juice', 'honey']\n",
      "['water', 'soda', 'porridge']\n",
      "['water', 'soda', 'porridge', 'milk']\n",
      "['grape', 'water', 'soda', 'porridge', 'milk']\n"
     ]
    }
   ],
   "source": [
    "#lists\n",
    "soft_drinks = ['water', 'soda', 'juice']\n",
    "print(soft_drinks)\n",
    "print(soft_drinks[2])\n",
    "\n",
    "print(soft_drinks[-1]) #prints from reverse order i.e from last item\n",
    "\n",
    "\n",
    "just_drinks = ['water', 'soda', 'juice', 'honey', 'milk']\n",
    "print(just_drinks[0:4])\n",
    "\n",
    "soft_drinks = ['water', 'soda', 'juice']\n",
    "soft_drinks[2]= 'porridge' #replace an item at a specified position\n",
    "print(soft_drinks)\n",
    "soft_drinks.append('milk') #add an item to list, it adds at the last position\n",
    "print(soft_drinks)\n",
    "soft_drinks.insert(0, 'grape')\n",
    "print(soft_drinks)"
   ]
  },
  {
   "cell_type": "code",
   "execution_count": 26,
   "id": "8b4959f3-679a-4410-a7e6-f9cc1726bc88",
   "metadata": {},
   "outputs": [
    {
     "name": "stdout",
     "output_type": "stream",
     "text": [
      "('meat', 'greens', 'fruits', 'chicken')\n"
     ]
    }
   ],
   "source": [
    "#tuple\n",
    "food = ('meat','greens','fruits','chicken')\n",
    "print(food)"
   ]
  },
  {
   "cell_type": "code",
   "execution_count": null,
   "id": "433d2ec1-b369-41da-b0ca-c1f917051e62",
   "metadata": {},
   "outputs": [],
   "source": []
  }
 ],
 "metadata": {
  "kernelspec": {
   "display_name": "Python 3 (ipykernel)",
   "language": "python",
   "name": "python3"
  },
  "language_info": {
   "codemirror_mode": {
    "name": "ipython",
    "version": 3
   },
   "file_extension": ".py",
   "mimetype": "text/x-python",
   "name": "python",
   "nbconvert_exporter": "python",
   "pygments_lexer": "ipython3",
   "version": "3.9.12"
  }
 },
 "nbformat": 4,
 "nbformat_minor": 5
}
