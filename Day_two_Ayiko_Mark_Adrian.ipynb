{
 "cells": [
  {
   "cell_type": "code",
   "execution_count": 1,
   "id": "a8c15a40",
   "metadata": {},
   "outputs": [],
   "source": [
    "#Arrays\n",
    "cars =['Tesla','Audi','Jeep','Benze']"
   ]
  },
  {
   "cell_type": "code",
   "execution_count": 2,
   "id": "7f34663f",
   "metadata": {},
   "outputs": [
    {
     "name": "stdout",
     "output_type": "stream",
     "text": [
      "['Tesla', 'Audi', 'Jeep', 'Benze']\n"
     ]
    }
   ],
   "source": [
    "print(cars)"
   ]
  },
  {
   "cell_type": "code",
   "execution_count": 11,
   "id": "bbbba19a",
   "metadata": {
    "scrolled": true
   },
   "outputs": [
    {
     "name": "stdout",
     "output_type": "stream",
     "text": [
      "4\n",
      "Tesla\n",
      "Audi\n",
      "Jeep\n",
      "Benze\n"
     ]
    }
   ],
   "source": [
    "#looping through elements\n",
    "print(len(cars))\n",
    "for i in cars:\n",
    "    print(i)\n"
   ]
  },
  {
   "cell_type": "code",
   "execution_count": 8,
   "id": "52c4f388",
   "metadata": {},
   "outputs": [
    {
     "name": "stdout",
     "output_type": "stream",
     "text": [
      "Tesla\n"
     ]
    }
   ],
   "source": [
    "car1 = 'Tesla'\n",
    "print(cars[0])"
   ]
  },
  {
   "cell_type": "code",
   "execution_count": 12,
   "id": "c41852ff",
   "metadata": {},
   "outputs": [
    {
     "name": "stdout",
     "output_type": "stream",
     "text": [
      "['Tesla', 'Audi', 'Jeep', 'Benze', 'BMW']\n"
     ]
    }
   ],
   "source": [
    "#appending an array\n",
    "cars.append('BMW')\n",
    "print(cars)"
   ]
  },
  {
   "cell_type": "code",
   "execution_count": 17,
   "id": "fdd89602",
   "metadata": {},
   "outputs": [
    {
     "name": "stdout",
     "output_type": "stream",
     "text": [
      "['Tesla', 'Jeep', 'BMW']\n"
     ]
    }
   ],
   "source": [
    "#removing elements from an array using remove method\n",
    "cars.pop(2)\n",
    "print(cars)"
   ]
  },
  {
   "cell_type": "code",
   "execution_count": 18,
   "id": "c31b81a7",
   "metadata": {},
   "outputs": [
    {
     "name": "stdout",
     "output_type": "stream",
     "text": [
      "['Tesla', 'Jeep', 'BMW']\n"
     ]
    }
   ],
   "source": [
    "print(cars)"
   ]
  },
  {
   "cell_type": "code",
   "execution_count": 19,
   "id": "deb1bc09",
   "metadata": {},
   "outputs": [
    {
     "name": "stdout",
     "output_type": "stream",
     "text": [
      "['Tesla', 'Jeep']\n"
     ]
    }
   ],
   "source": [
    "cars.pop()\n",
    "print(cars)"
   ]
  },
  {
   "cell_type": "code",
   "execution_count": 20,
   "id": "86bd0e4f",
   "metadata": {},
   "outputs": [
    {
     "name": "stdout",
     "output_type": "stream",
     "text": [
      "['Subaru', 'Jeep']\n"
     ]
    }
   ],
   "source": [
    "cars[0] = 'Subaru'\n",
    "print(cars)"
   ]
  },
  {
   "cell_type": "code",
   "execution_count": 24,
   "id": "08c2ecd5",
   "metadata": {},
   "outputs": [
    {
     "name": "stdout",
     "output_type": "stream",
     "text": [
      "Tesla\n",
      "banana\n",
      "cherry\n"
     ]
    }
   ],
   "source": [
    "#Example on iterators\n",
    "my_tuple = ('Tesla','banana','cherry')\n",
    "myitera = iter(my_tuple)\n",
    "print(next(myitera))\n",
    "print(next(myitera))\n",
    "print(next(myitera))"
   ]
  },
  {
   "cell_type": "code",
   "execution_count": 26,
   "id": "32004b9c",
   "metadata": {},
   "outputs": [
    {
     "name": "stdout",
     "output_type": "stream",
     "text": [
      "A\n",
      "y\n",
      "i\n",
      "k\n",
      "o\n",
      " \n",
      "M\n",
      "a\n",
      "r\n",
      "k\n"
     ]
    }
   ],
   "source": [
    "#iterate through a string\n",
    "myname = \"Ayiko Mark\"\n",
    "my_itera = iter(myname)\n",
    "print(next(my_itera))\n",
    "print(next(my_itera))\n",
    "print(next(my_itera))\n",
    "print(next(my_itera))\n",
    "print(next(my_itera))\n",
    "print(next(my_itera))\n",
    "print(next(my_itera))\n",
    "print(next(my_itera))\n",
    "print(next(my_itera))\n",
    "print(next(my_itera))"
   ]
  },
  {
   "cell_type": "code",
   "execution_count": 27,
   "id": "fe8aa6ef",
   "metadata": {},
   "outputs": [
    {
     "name": "stdout",
     "output_type": "stream",
     "text": [
      "chelsea\n",
      "arsenal\n",
      "Liverpool\n",
      "Man-u\n"
     ]
    }
   ],
   "source": [
    "#looping through an iterator\n",
    "club = (\"chelsea\", \"arsenal\",\"Liverpool\",\"Man-u\")\n",
    "for team in club:\n",
    "    print(team)"
   ]
  },
  {
   "cell_type": "code",
   "execution_count": 29,
   "id": "17f7628b",
   "metadata": {},
   "outputs": [
    {
     "name": "stdout",
     "output_type": "stream",
     "text": [
      "LivingStone\n",
      "Mitchell\n",
      "Africa\n",
      "Complex\n"
     ]
    }
   ],
   "source": [
    "club = (\"LivingStone\", \"Mitchell\",\"Africa\",\"Complex\")\n",
    "for team in club:\n",
    "    print(team)"
   ]
  },
  {
   "cell_type": "code",
   "execution_count": 31,
   "id": "d20a57ed",
   "metadata": {},
   "outputs": [
    {
     "name": "stdout",
     "output_type": "stream",
     "text": [
      "A\n",
      "y\n",
      "i\n",
      "k\n",
      "o\n",
      " \n",
      "M\n",
      "a\n",
      "got it\n",
      "k\n"
     ]
    }
   ],
   "source": [
    "#looping through a string\n",
    "myname = 'Ayiko Mark'\n",
    "for x in myname:\n",
    "    if x==\"r\":\n",
    "        print(\"got it\")\n",
    "    else:\n",
    "        print(x)\n",
    "    "
   ]
  },
  {
   "cell_type": "code",
   "execution_count": 32,
   "id": "9bf2af61",
   "metadata": {},
   "outputs": [
    {
     "name": "stdout",
     "output_type": "stream",
     "text": [
      "2 4 6 8 10 12 \n"
     ]
    }
   ],
   "source": [
    "for i in range(1, 7):\n",
    "    print(2 * i, end=\" \")\n",
    "print()"
   ]
  },
  {
   "cell_type": "code",
   "execution_count": 48,
   "id": "e1a0d8b1",
   "metadata": {},
   "outputs": [
    {
     "name": "stdout",
     "output_type": "stream",
     "text": [
      "1 2 3 4 5 "
     ]
    }
   ],
   "source": [
    "# Generate numbers 0 to 20\n",
    "for x in range(1,6):\n",
    "    print(x, end=\" \")\n"
   ]
  },
  {
   "cell_type": "code",
   "execution_count": 49,
   "id": "856b82b8",
   "metadata": {},
   "outputs": [
    {
     "name": "stdout",
     "output_type": "stream",
     "text": [
      "1 2 3 4 5 6 7 8 9 10 11 12 13 14 15 16 17 18 19 20 "
     ]
    }
   ],
   "source": [
    "# Generate numbers 0 to 20\n",
    "# Exes\n",
    "for x in range(1 ,21):\n",
    "    print(x ,end=\" \")\n"
   ]
  },
  {
   "cell_type": "code",
   "execution_count": 43,
   "id": "a1f0416a",
   "metadata": {},
   "outputs": [
    {
     "name": "stdout",
     "output_type": "stream",
     "text": [
      "Enter username: Adrian\n",
      "my name is Adrian\n"
     ]
    }
   ],
   "source": [
    "#python user input\n",
    "username = input(\"Enter username: \")\n",
    "print(\"my name is \" + username)"
   ]
  },
  {
   "cell_type": "code",
   "execution_count": null,
   "id": "fcc455da",
   "metadata": {},
   "outputs": [],
   "source": []
  },
  {
   "cell_type": "code",
   "execution_count": null,
   "id": "f32a9b84",
   "metadata": {},
   "outputs": [],
   "source": []
  },
  {
   "cell_type": "code",
   "execution_count": null,
   "id": "ca1c0fd4",
   "metadata": {},
   "outputs": [],
   "source": []
  }
 ],
 "metadata": {
  "kernelspec": {
   "display_name": "Python 3 (ipykernel)",
   "language": "python",
   "name": "python3"
  },
  "language_info": {
   "codemirror_mode": {
    "name": "ipython",
    "version": 3
   },
   "file_extension": ".py",
   "mimetype": "text/x-python",
   "name": "python",
   "nbconvert_exporter": "python",
   "pygments_lexer": "ipython3",
   "version": "3.9.12"
  }
 },
 "nbformat": 4,
 "nbformat_minor": 5
}
