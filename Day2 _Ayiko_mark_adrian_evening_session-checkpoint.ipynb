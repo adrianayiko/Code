{
 "cells": [
  {
   "cell_type": "code",
   "execution_count": 2,
   "id": "847d10c4",
   "metadata": {},
   "outputs": [
    {
     "name": "stdout",
     "output_type": "stream",
     "text": [
      "('premo', 'Rover', 'benze')\n",
      "<class 'tuple'>\n",
      "('Rover', 'benze')\n"
     ]
    }
   ],
   "source": [
    "#tuples\n",
    "cars = ('premo', 'Rover','benze')\n",
    "print(cars)\n",
    "print(type(cars))\n",
    "print(cars[1:])"
   ]
  },
  {
   "cell_type": "raw",
   "id": "a3e52b54",
   "metadata": {},
   "source": []
  },
  {
   "cell_type": "code",
   "execution_count": null,
   "id": "c4fb9a6a",
   "metadata": {},
   "outputs": [],
   "source": []
  }
 ],
 "metadata": {
  "kernelspec": {
   "display_name": "Python 3 (ipykernel)",
   "language": "python",
   "name": "python3"
  },
  "language_info": {
   "codemirror_mode": {
    "name": "ipython",
    "version": 3
   },
   "file_extension": ".py",
   "mimetype": "text/x-python",
   "name": "python",
   "nbconvert_exporter": "python",
   "pygments_lexer": "ipython3",
   "version": "3.9.12"
  }
 },
 "nbformat": 4,
 "nbformat_minor": 5
}
