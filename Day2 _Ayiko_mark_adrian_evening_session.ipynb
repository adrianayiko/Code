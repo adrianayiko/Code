{
 "cells": [
  {
   "cell_type": "code",
   "execution_count": 2,
   "id": "fc486b7b",
   "metadata": {},
   "outputs": [
    {
     "name": "stdout",
     "output_type": "stream",
     "text": [
      "('premo', 'Rover', 'benze')\n",
      "<class 'tuple'>\n",
      "('Rover', 'benze')\n"
     ]
    }
   ],
   "source": [
    "#tuples\n",
    "cars = ('premo', 'Rover','benze')\n",
    "print(cars)\n",
    "print(type(cars))\n",
    "print(cars[1:])"
   ]
  },
  {
   "cell_type": "raw",
   "id": "a3aba89f",
   "metadata": {},
   "source": []
  },
  {
   "cell_type": "code",
   "execution_count": 3,
   "id": "a901ca2a",
   "metadata": {},
   "outputs": [
    {
     "name": "stdout",
     "output_type": "stream",
     "text": [
      "['premo', 'Rover', 'benze', 'toyota']\n"
     ]
    }
   ],
   "source": [
    "#converting tuple to list\n",
    "cars = list(cars)\n",
    "cars.append('toyota')\n",
    "print(cars)\n"
   ]
  },
  {
   "cell_type": "code",
   "execution_count": 4,
   "id": "36a0834d",
   "metadata": {},
   "outputs": [],
   "source": [
    "#appending \n",
    "cars.insert(1,'Subaru')"
   ]
  },
  {
   "cell_type": "code",
   "execution_count": 5,
   "id": "5e896d73",
   "metadata": {},
   "outputs": [
    {
     "name": "stdout",
     "output_type": "stream",
     "text": [
      "['premo', 'Subaru', 'Rover', 'benze', 'toyota']\n"
     ]
    }
   ],
   "source": [
    "print(cars)"
   ]
  },
  {
   "cell_type": "code",
   "execution_count": 6,
   "id": "dcca4716",
   "metadata": {},
   "outputs": [
    {
     "name": "stdout",
     "output_type": "stream",
     "text": [
      "['premo', 'Drive', 'Rover', 'benze', 'toyota']\n"
     ]
    }
   ],
   "source": [
    "cars[1] = 'Drive'\n",
    "print(cars)"
   ]
  },
  {
   "cell_type": "code",
   "execution_count": 7,
   "id": "abb7253e",
   "metadata": {},
   "outputs": [
    {
     "name": "stdout",
     "output_type": "stream",
     "text": [
      "('premo', 'Drive', 'Rover', 'benze', 'toyota')\n"
     ]
    }
   ],
   "source": [
    "cars = tuple(cars)\n",
    "print(cars)"
   ]
  },
  {
   "cell_type": "code",
   "execution_count": 8,
   "id": "de841fc6",
   "metadata": {},
   "outputs": [
    {
     "name": "stdout",
     "output_type": "stream",
     "text": [
      "<class 'set'>\n",
      "{'mangoes', 'oranges', 'watermelon', 'pineapple'}\n"
     ]
    }
   ],
   "source": [
    "#sets\n",
    "Fruits = {'oranges', 'mangoes','pineapple','watermelon'}\n",
    "print(type(Fruits))\n",
    "print(Fruits)\n"
   ]
  },
  {
   "cell_type": "code",
   "execution_count": 9,
   "id": "1eed0bd0",
   "metadata": {},
   "outputs": [
    {
     "name": "stdout",
     "output_type": "stream",
     "text": [
      "{'brand': 'Ford', 'model': 'Mustang', 'year': 1964}\n",
      "Ford\n",
      "3\n",
      "<class 'dict'>\n"
     ]
    }
   ],
   "source": [
    "#dictionaries \n",
    "thisdict = {\n",
    "  \"brand\": \"Ford\",\n",
    "  \"model\": \"Mustang\",\n",
    "  \"year\": 1964\n",
    "}\n",
    "print(thisdict)\n",
    "print(thisdict[\"brand\"])\n",
    "print(len(thisdict))\n",
    "print(type(thisdict))"
   ]
  },
  {
   "cell_type": "code",
   "execution_count": 10,
   "id": "78602538",
   "metadata": {},
   "outputs": [
    {
     "data": {
      "text/plain": [
       "True"
      ]
     },
     "execution_count": 10,
     "metadata": {},
     "output_type": "execute_result"
    }
   ],
   "source": [
    "#booleans\n",
    "1<=2"
   ]
  },
  {
   "cell_type": "code",
   "execution_count": 13,
   "id": "8792ed09",
   "metadata": {},
   "outputs": [
    {
     "data": {
      "text/plain": [
       "bool"
      ]
     },
     "execution_count": 13,
     "metadata": {},
     "output_type": "execute_result"
    }
   ],
   "source": [
    "type(True)\n",
    "type(False)"
   ]
  },
  {
   "cell_type": "code",
   "execution_count": 3,
   "id": "a1c8f005",
   "metadata": {},
   "outputs": [
    {
     "name": "stdout",
     "output_type": "stream",
     "text": [
      "\n",
      "Here is a list of the Python keywords.  Enter any keyword to get more help.\n",
      "\n",
      "False               break               for                 not\n",
      "None                class               from                or\n",
      "True                continue            global              pass\n",
      "__peg_parser__      def                 if                  raise\n",
      "and                 del                 import              return\n",
      "as                  elif                in                  try\n",
      "assert              else                is                  while\n",
      "async               except              lambda              with\n",
      "await               finally             nonlocal            yield\n",
      "\n"
     ]
    }
   ],
   "source": [
    "help('keywords')"
   ]
  },
  {
   "cell_type": "code",
   "execution_count": 5,
   "id": "c117d02b",
   "metadata": {},
   "outputs": [
    {
     "name": "stdout",
     "output_type": "stream",
     "text": [
      "False\n"
     ]
    }
   ],
   "source": [
    "#result sets of boolen expressions\n",
    "x=5\n",
    "y=10\n",
    "print(x==y)"
   ]
  },
  {
   "cell_type": "code",
   "execution_count": 7,
   "id": "3880f273",
   "metadata": {},
   "outputs": [
    {
     "name": "stdout",
     "output_type": "stream",
     "text": [
      "True\n"
     ]
    }
   ],
   "source": [
    "x={}\n",
    "x=0.0\n",
    "x=\"mark\"\n",
    "print(bool(x))\n"
   ]
  },
  {
   "cell_type": "code",
   "execution_count": 9,
   "id": "cb124d84",
   "metadata": {},
   "outputs": [
    {
     "name": "stdout",
     "output_type": "stream",
     "text": [
      "False\n"
     ]
    }
   ],
   "source": [
    "A=10\n",
    "B=20\n",
    "print(A==B)"
   ]
  },
  {
   "cell_type": "code",
   "execution_count": 24,
   "id": "81938e74",
   "metadata": {},
   "outputs": [
    {
     "name": "stdout",
     "output_type": "stream",
     "text": [
      "<class 'int'>\n",
      "False\n",
      "True\n",
      "True\n"
     ]
    }
   ],
   "source": [
    "#boolen expressions \n",
    "var1 = 0\n",
    "var2 = 1\n",
    "var3 = -9.6\n",
    "print(type(var2))\n",
    "print(bool(var1))\n",
    "print(bool(var2))\n",
    "print(bool(var3))"
   ]
  },
  {
   "cell_type": "code",
   "execution_count": 20,
   "id": "bd4c3764",
   "metadata": {},
   "outputs": [
    {
     "name": "stdout",
     "output_type": "stream",
     "text": [
      "True\n",
      "well done\n"
     ]
    }
   ],
   "source": [
    "x=3\n",
    "z = 23\n",
    "print(bool(x))\n",
    "if x>z and (z>20):\n",
    "    print(\"well done\")\n",
    "else:\n",
    "    print(\"you have to continue\")\n",
    "    "
   ]
  },
  {
   "cell_type": "code",
   "execution_count": 22,
   "id": "9e6b8075",
   "metadata": {},
   "outputs": [
    {
     "name": "stdout",
     "output_type": "stream",
     "text": [
      "True\n",
      "you have to continue\n"
     ]
    }
   ],
   "source": [
    "x=3\n",
    "z = 23\n",
    "print(bool(x))\n",
    "if x==z or (z==20):\n",
    "    print(\"well done\")\n",
    "else:\n",
    "    print(\"you have to continue\")\n",
    "    "
   ]
  },
  {
   "cell_type": "code",
   "execution_count": 25,
   "id": "7df43b92",
   "metadata": {},
   "outputs": [
    {
     "name": "stdout",
     "output_type": "stream",
     "text": [
      "Enter your age: 58\n",
      "You are an Adult\n"
     ]
    }
   ],
   "source": [
    "x= int(input(\"Enter your age: \"))\n",
    "\n",
    "if not x<18:\n",
    "    print('You are an Adult')\n",
    "else:\n",
    "    print(\"You are still young\")"
   ]
  },
  {
   "cell_type": "code",
   "execution_count": 26,
   "id": "ae213c0b",
   "metadata": {},
   "outputs": [
    {
     "name": "stdout",
     "output_type": "stream",
     "text": [
      "True\n"
     ]
    }
   ],
   "source": [
    "a=53\n",
    "b='now'\n",
    "x=10\n",
    "y=10\n",
    "if x is y:\n",
    "    print(True)\n",
    "else:\n",
    "    print(False)"
   ]
  },
  {
   "cell_type": "code",
   "execution_count": 28,
   "id": "e7a53656",
   "metadata": {},
   "outputs": [
    {
     "name": "stdout",
     "output_type": "stream",
     "text": [
      "it exists in list\n"
     ]
    }
   ],
   "source": [
    "animals = ['dog', 'lion','cat']\n",
    "if 'lion' in animals:\n",
    "    print(\"it exists in list\")\n",
    "else:\n",
    "     print(\"not there in this \")"
   ]
  },
  {
   "cell_type": "code",
   "execution_count": 41,
   "id": "40587848",
   "metadata": {},
   "outputs": [
    {
     "name": "stdout",
     "output_type": "stream",
     "text": [
      "1\n",
      "2\n",
      "4\n",
      "5\n",
      "6\n",
      "x is no longer less than 6\n",
      "while with break\n",
      "1\n",
      "2\n"
     ]
    }
   ],
   "source": [
    "#loops in python\n",
    "#while loop with continue\n",
    "x = 0\n",
    "while x < 6:\n",
    "    x += 1\n",
    "    if x == 3:\n",
    "        continue\n",
    "    print(x)\n",
    "else:\n",
    "    print(\"x is no longer less than 6\")\n",
    "    \n",
    "print(\"while with break\")\n",
    "# break\n",
    "i = 0\n",
    "while i < 6:\n",
    "    i += 1\n",
    "    if i == 3:\n",
    "        break\n",
    "    print(i)"
   ]
  },
  {
   "cell_type": "code",
   "execution_count": 34,
   "id": "2a25ffdd",
   "metadata": {},
   "outputs": [
    {
     "name": "stdout",
     "output_type": "stream",
     "text": [
      "['Tesla', 'Audi', 'Jeep', 'Benze', 'BMW']\n",
      "Tesla\n",
      "Audi\n",
      "Subaru Foster\n",
      "Benze\n",
      "BMW\n",
      "['Tesla', 'Audi', 'Subaru Foster', 'Benze', 'BMW']\n"
     ]
    }
   ],
   "source": [
    "#for loop \n",
    "cars = ['Tesla', 'Audi', 'Jeep', 'Benze', 'BMW']\n",
    "print(cars)\n",
    "cars[2] = 'Subaru Foster'\n",
    "for x in cars:\n",
    "    print(x)\n",
    "print(cars)"
   ]
  },
  {
   "cell_type": "code",
   "execution_count": 48,
   "id": "676f443e",
   "metadata": {},
   "outputs": [
    {
     "name": "stdout",
     "output_type": "stream",
     "text": [
      "you are done for now\n",
      "you are done for now\n",
      "you are done for now\n"
     ]
    }
   ],
   "source": [
    "for i in range(6):\n",
    "    if i==3:\n",
    "        break\n",
    "    else:\n",
    "        print(\"you are done for now\");\n",
    "    \n"
   ]
  },
  {
   "cell_type": "code",
   "execution_count": 49,
   "id": "83e46b59",
   "metadata": {},
   "outputs": [
    {
     "name": "stdout",
     "output_type": "stream",
     "text": [
      "6\n",
      "8\n",
      "10\n"
     ]
    }
   ],
   "source": [
    "for i in range(6, 12, 2):\n",
    "    print(i)"
   ]
  },
  {
   "cell_type": "code",
   "execution_count": 50,
   "id": "cb35e6f1",
   "metadata": {},
   "outputs": [
    {
     "name": "stdout",
     "output_type": "stream",
     "text": [
      "sweet pineapple\n",
      "sweet lemon\n",
      "sweet watermelon\n",
      "sour pineapple\n",
      "sour lemon\n",
      "sour watermelon\n",
      "tasty pineapple\n",
      "tasty lemon\n",
      "tasty watermelon\n"
     ]
    }
   ],
   "source": [
    "flavour = ['sweet','sour','tasty']\n",
    "fruit =['pineapple','lemon','watermelon']\n",
    "for x in flavour:\n",
    "    for y in fruit:\n",
    "        print(x,y)"
   ]
  },
  {
   "cell_type": "code",
   "execution_count": 51,
   "id": "8fb4be0f",
   "metadata": {},
   "outputs": [
    {
     "name": "stdout",
     "output_type": "stream",
     "text": [
      "1 2 3 4 5 6 7 8 9 10 11 12 13 14 15 16 17 18 19 20 "
     ]
    }
   ],
   "source": [
    "# Generate numbers 0 to 20\n",
    "# Exes\n",
    "for x in range(1 ,21):\n",
    "    print(x ,end=\" \")\n",
    "    "
   ]
  },
  {
   "cell_type": "code",
   "execution_count": null,
   "id": "c4ca5c82",
   "metadata": {},
   "outputs": [],
   "source": []
  }
 ],
 "metadata": {
  "kernelspec": {
   "display_name": "Python 3 (ipykernel)",
   "language": "python",
   "name": "python3"
  },
  "language_info": {
   "codemirror_mode": {
    "name": "ipython",
    "version": 3
   },
   "file_extension": ".py",
   "mimetype": "text/x-python",
   "name": "python",
   "nbconvert_exporter": "python",
   "pygments_lexer": "ipython3",
   "version": "3.9.12"
  }
 },
 "nbformat": 4,
 "nbformat_minor": 5
}
